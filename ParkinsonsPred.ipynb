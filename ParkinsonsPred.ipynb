# Import Required Libraries
import numpy as np
import pandas as pd
from sklearn.model_selection import train_test_split
from sklearn.metrics import accuracy_score
from sklearn.preprocessing import MinMaxScaler
from xgboost import XGBClassifier

# Load the Parkinson's Dataset
dataset_path = '/content/parkinsons.data'  # Update this path
data = pd.read_csv(dataset_path)

# Data Preprocessing
# Drop the 'name' column (not a feature)
data = data.drop(columns=['name'])

# Separate features and target variable
X_full = data.drop(columns=['status'])
y = data['status']

# Normalize the features
scaler = MinMaxScaler((-1, 1))
X_full = scaler.fit_transform(X_full)

# Split the dataset into training and testing sets
X_train, X_test, y_train, y_test = train_test_split(X_full, y, test_size=0.15, random_state=42)

# Create the XGBoost model
model = XGBClassifier()

# Fit the model to the training data
model.fit(X_train, y_train)

# Feature Importance Ranking
feature_importance = model.feature_importances_
feature_names = data.columns[:-1]
important_features = pd.DataFrame({'Feature': feature_names, 'Importance': feature_importance})
important_features = important_features.sort_values(by='Importance', ascending=False)
print("\nFeature Importance Ranking:")
print(important_features)

# Retain Top 4 Features
top_features = important_features['Feature'].head(4).tolist()
selected_features = top_features + ['status']
print(f"\nSelected Features: {selected_features}")

# Create a new DataFrame with selected features
data_selected = data[selected_features]

# Split into features and target
X = data_selected.drop(columns=['status'])
y = data_selected['status']

# Normalize selected features
X = scaler.fit_transform(X)

# Split into training and testing sets
X_train, X_test, y_train, y_test = train_test_split(X, y, test_size=0.15, random_state=42)

# Retrain the model with selected features
model.fit(X_train, y_train)

# Evaluate the Model
y_pred = model.predict(X_test)
accuracy = accuracy_score(y_test, y_pred) * 100
print(f"\nModel Accuracy with Selected Features: {accuracy:.2f}%")

# User Input for Prediction
def predict_parkinsons(input_data):
    input_data = np.array([input_data])  # Convert input to a NumPy array
    input_scaled = scaler.transform(input_data)  # Scale the input
    prediction = model.predict(input_scaled)
    return "Parkinson's" if prediction[0] == 1 else "No Parkinson's"

# Example Inputs
print("\nProvide input values for prediction (Top 4 features):")
feature_1 = float(input(f"Enter {top_features[0]}: "))
feature_2 = float(input(f"Enter {top_features[1]}: "))
feature_3 = float(input(f"Enter {top_features[2]}: "))
feature_4 = float(input(f"Enter {top_features[3]}: "))
user_input = [feature_1, feature_2, feature_3, feature_4]

# Prediction
result = predict_parkinsons(user_input)
print(f"Prediction: {result}")
